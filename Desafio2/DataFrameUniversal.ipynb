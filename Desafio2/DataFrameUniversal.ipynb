{
 "cells": [
  {
   "cell_type": "code",
   "execution_count": 3,
   "metadata": {},
   "outputs": [
    {
     "ename": "",
     "evalue": "",
     "output_type": "error",
     "traceback": [
      "\u001b[1;31mThe Kernel crashed while executing code in the the current cell or a previous cell. Please review the code in the cell(s) to identify a possible cause of the failure. Click <a href='https://aka.ms/vscodeJupyterKernelCrash'>here</a> for more info. View Jupyter <a href='command:jupyter.viewOutput'>log</a> for further details."
     ]
    }
   ],
   "source": [
    "import pandas as pd\n",
    "import tkinter as tk\n",
    "from tkinter import ttk  # Import ttk module for Treeview\n",
    "from tkinter.scrolledtext import ScrolledText\n",
    "\n",
    "df = None  # Define df at a higher scope\n",
    "\n",
    "def carregar_arquivo():\n",
    "    global df\n",
    "    url = entrada_url.get()\n",
    "    df = pd.read_csv(url, sep=';', on_bad_lines='skip', dtype=str)\n",
    "\n",
    "    # Create a new Treeview widget with columns and headings\n",
    "    columns = df.columns.tolist()  # Get all column names from the CSV\n",
    "    tree = ttk.Treeview(root, columns=columns, show=\"headings\")\n",
    "    for col in columns:\n",
    "        tree.heading(col, text=col)\n",
    "        tree.column(col, width=100)  # Define the width of columns (adjust as needed)\n",
    "    tree.grid(row=2, column=0, columnspan=len(columns))  # Adjust the row and column\n",
    "\n",
    "    mostrar_tabela(tree)\n",
    "\n",
    "def mostrar_tabela(tree):\n",
    "    for i in tree.get_children():\n",
    "        tree.delete(i)\n",
    "    \n",
    "    for index, row in df.iterrows():\n",
    "        values = [row[col] for col in df.columns]\n",
    "        tree.insert(\"\", \"end\", values=values)\n",
    "\n",
    "root = tk.Tk()\n",
    "root.title(\"Leitor de CSV Online\")\n",
    "\n",
    "frame_url = tk.Frame(root)\n",
    "frame_url.grid(row=0, column=0)\n",
    "label_url = tk.Label(frame_url, text=\"URL do CSV:\")\n",
    "label_url.grid(row=0, column=0)\n",
    "entrada_url = tk.Entry(frame_url)\n",
    "entrada_url.grid(row=0, column=1)\n",
    "\n",
    "botao_carregar = tk.Button(root, text=\"Carregar Arquivo\", command=carregar_arquivo)\n",
    "botao_carregar.grid(row=1, column=0, columnspan=2)  # Adjust the row and column\n",
    "\n",
    "root.mainloop()"
   ]
  }
 ],
 "metadata": {
  "kernelspec": {
   "display_name": "base",
   "language": "python",
   "name": "python3"
  },
  "language_info": {
   "codemirror_mode": {
    "name": "ipython",
    "version": 3
   },
   "file_extension": ".py",
   "mimetype": "text/x-python",
   "name": "python",
   "nbconvert_exporter": "python",
   "pygments_lexer": "ipython3",
   "version": "3.11.5"
  }
 },
 "nbformat": 4,
 "nbformat_minor": 2
}
