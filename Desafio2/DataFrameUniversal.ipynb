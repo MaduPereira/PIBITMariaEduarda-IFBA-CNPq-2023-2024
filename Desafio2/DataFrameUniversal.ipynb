{
 "cells": [
  {
   "cell_type": "code",
   "execution_count": 7,
   "metadata": {},
   "outputs": [],
   "source": [
    "import pandas as pd\n",
    "import tkinter as tk\n",
    "from tkinter import filedialog\n",
    "from tkinter.scrolledtext import ScrolledText\n",
    "\n",
    "def carregar_arquivo():\n",
    "    url = entrada_url.get()\n",
    "    df = pd.read_csv(url, sep=';', on_bad_lines='skip', dtype=str)  # Especifica o separador e define o tipo de dados como string\n",
    "    colunas = df.columns.tolist()\n",
    "    colunas_selecionadas = entrada_colunas.get().split(',')\n",
    "    if not colunas_selecionadas or colunas_selecionadas == ['']:\n",
    "        colunas_selecionadas = colunas[:4]  # Seleciona as 4 primeiras colunas se nenhuma coluna for especificada\n",
    "\n",
    "    # Use .loc para acessar colunas por nome em vez de .iloc\n",
    "    df_filtrado = df[colunas_selecionadas]\n",
    "    mostrar_tabela(df_filtrado)\n",
    "\n",
    "def mostrar_tabela(df):\n",
    "    tabela = tk.Toplevel(root)\n",
    "    tabela.title(\"Tabela CSV\")\n",
    "    texto = ScrolledText(tabela)\n",
    "    texto.pack(fill=\"both\", expand=True)\n",
    "    texto.insert(tk.END, df.to_string())\n",
    "\n",
    "root = tk.Tk()\n",
    "root.title(\"Leitor de CSV Online\")\n",
    "\n",
    "frame_url = tk.Frame(root)\n",
    "frame_url.pack()\n",
    "label_url = tk.Label(frame_url, text=\"URL do CSV:\")\n",
    "label_url.pack(side=\"left\")\n",
    "entrada_url = tk.Entry(frame_url)\n",
    "entrada_url.pack(side=\"left\")\n",
    "\n",
    "frame_colunas = tk.Frame(root)\n",
    "frame_colunas.pack()\n",
    "label_colunas = tk.Label(frame_colunas, text=\"Colunas (separadas por vírgula):\")\n",
    "label_colunas.pack(side=\"left\")\n",
    "entrada_colunas = tk.Entry(frame_colunas)\n",
    "entrada_colunas.pack(side=\"left\")\n",
    "\n",
    "botao_carregar = tk.Button(root, text=\"Carregar Arquivo\", command=carregar_arquivo)\n",
    "botao_carregar.pack()\n",
    "\n",
    "root.mainloop()"
   ]
  }
 ],
 "metadata": {
  "kernelspec": {
   "display_name": "base",
   "language": "python",
   "name": "python3"
  },
  "language_info": {
   "codemirror_mode": {
    "name": "ipython",
    "version": 3
   },
   "file_extension": ".py",
   "mimetype": "text/x-python",
   "name": "python",
   "nbconvert_exporter": "python",
   "pygments_lexer": "ipython3",
   "version": "3.11.5"
  }
 },
 "nbformat": 4,
 "nbformat_minor": 2
}
